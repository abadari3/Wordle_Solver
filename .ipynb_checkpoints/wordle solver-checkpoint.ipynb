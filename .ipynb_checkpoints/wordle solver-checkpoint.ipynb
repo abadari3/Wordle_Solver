{
 "cells": [
  {
   "cell_type": "code",
   "execution_count": 83,
   "metadata": {},
   "outputs": [],
   "source": [
    "import urllib.request\n",
    "\n",
    "allowed_words = urllib.request.urlopen(\"https://gist.githubusercontent.com/cfreshman/cdcdf777450c5b5301e439061d29694c/raw/de1df631b45492e0974f7affe266ec36fed736eb/wordle-allowed-guesses.txt\").read().decode(\"utf-8\").split(\"\\n\")\n",
    "possible_words = urllib.request.urlopen(\"https://gist.githubusercontent.com/cfreshman/a03ef2cba789d8cf00c08f767e0fad7b/raw/5d752e5f0702da315298a6bb5a771586d6ff445c/wordle-answers-alphabetical.txt\").read().decode(\"utf-8\").split(\"\\n\")\n",
    "possible_guesses = possible_words\n",
    "hints = {\n",
    "    \"wrong\":[],\n",
    "    \"present\":[],\n",
    "    \"fixed\":[]\n",
    "}\n",
    "\n",
    "def condition(w, hints):\n",
    "    valid = []\n",
    "    for fixed in hints[\"fixed\"]:\n",
    "        c, l = fixed\n",
    "        if w[l] != c:\n",
    "            return False\n",
    "        else:\n",
    "            valid.append(c)\n",
    "    for wrong in hints[\"wrong\"]:\n",
    "        if wrong in w:\n",
    "            return False\n",
    "        \n",
    "    for var in hints[\"present\"]:\n",
    "        c, l = var\n",
    "        if c in w:\n",
    "            valid.append(c)\n",
    "    if sorted(tried) != sorted(valid):\n",
    "        return False\n",
    "    return True\n",
    "\n",
    "def gather_info():\n",
    "    # best info gathering guess\n",
    "    letters = {}\n",
    "    for word in possible_guesses:\n",
    "        for c in word:\n",
    "            if c in letters:\n",
    "                letters[c] += 1\n",
    "            else:\n",
    "                letters[c] = 1\n",
    "\n",
    "    tried_chars = [x for x in hints[\"wrong\"]]\n",
    "    tried_chars.extend([x[0] for x in hints[\"fixed\"]])\n",
    "    tried_chars.extend([x[0] for x in hints[\"present\"]])\n",
    "    for c in \"abcdefghijklmnopqrstuvwxyz\":\n",
    "        if c in tried_chars:\n",
    "                letters[c] = 0\n",
    "        elif c not in letters:\n",
    "            letters[c] = 0\n",
    "\n",
    "    best_guess = \"\"\n",
    "    max_score = 0\n",
    "    for word in allowed_words:\n",
    "        score = 0\n",
    "        chars = []\n",
    "        for c in word:\n",
    "            if c in chars:\n",
    "                continue\n",
    "            else:\n",
    "                chars.append(c)\n",
    "            score += letters[c]\n",
    "        if score > max_score:\n",
    "            max_score = score\n",
    "            best_guess = word\n",
    "    return best_guess\n",
    "\n",
    "tried = []\n",
    "def guess():\n",
    "    word = input(\"word: \")\n",
    "    present = [p.strip() for p in input(\"present: \").split(\",\") if p.strip() != '']\n",
    "    fixed = [p.strip() for p in input(\"correct: \").split(\",\") if p.strip() != '']\n",
    "    print()\n",
    "    for i, c in enumerate(word):\n",
    "        if c not in fixed and c not in present:\n",
    "            hints['wrong'].append(c)\n",
    "        elif c in fixed:\n",
    "            hints['fixed'].append((c, i))\n",
    "            tried.append(c)\n",
    "        elif c in present:\n",
    "            hints['present'].append((c, i))\n",
    "            tried.append(c)\n",
    "#     if we already have our 5 valid tried characters, we want to make everything else wrong\n",
    "    if len(set(tried)) >= 5:\n",
    "        hints['wrong'] = [c for c in \"abcdefghijklmnopqrstuvwxyz\" if c not in tried]\n",
    "    possible_guesses = [w for w in possible_words if condition(w, hints)]\n",
    "    print(\"possible solutions are\", possible_guesses)\n",
    "    print()\n",
    "        \n",
    "    return possible_guesses"
   ]
  },
  {
   "cell_type": "code",
   "execution_count": 84,
   "metadata": {
    "scrolled": true
   },
   "outputs": [
    {
     "name": "stdout",
     "output_type": "stream",
     "text": [
      "word: orate\n",
      "present: \n",
      "correct: r, a, e\n",
      "\n",
      "possible solutions are ['brace', 'brake', 'brave', 'crane', 'crave', 'craze', 'drake', 'drape', 'erase', 'frame', 'grace', 'grade', 'grape', 'grave', 'graze']\n",
      "\n",
      "the best word to gather information is lysin\n"
     ]
    }
   ],
   "source": [
    "possible_guesses = guess()\n",
    "gather_info()"
   ]
  },
  {
   "cell_type": "code",
   "execution_count": 79,
   "metadata": {
    "scrolled": true
   },
   "outputs": [
    {
     "name": "stdout",
     "output_type": "stream",
     "text": [
      "word: lysin\n",
      "present: s, i, n\n",
      "correct: \n",
      "\n",
      "possible solutions are ['sting', 'stink', 'stint']\n",
      "\n",
      "the best word to gather information is faugh\n"
     ]
    }
   ],
   "source": [
    "possible_guesses = guess()\n",
    "gather_info()"
   ]
  },
  {
   "cell_type": "code",
   "execution_count": 80,
   "metadata": {},
   "outputs": [
    {
     "name": "stdout",
     "output_type": "stream",
     "text": [
      "word: sting\n",
      "present: \n",
      "correct: s, t, I, n\n",
      "\n",
      "possible solutions are []\n",
      "\n"
     ]
    }
   ],
   "source": [
    "possible_guesses = guess()\n",
    "gather_info()"
   ]
  },
  {
   "cell_type": "code",
   "execution_count": 70,
   "metadata": {},
   "outputs": [
    {
     "name": "stdout",
     "output_type": "stream",
     "text": [
      "word: advew\n",
      "present: d\n",
      "correct: e\n",
      "\n",
      "possible solutions are ['model']\n",
      "\n"
     ]
    }
   ],
   "source": [
    "possible_guesses = guess()\n",
    "gather_info()"
   ]
  },
  {
   "cell_type": "code",
   "execution_count": null,
   "metadata": {},
   "outputs": [],
   "source": [
    "possible_guesses = guess()\n",
    "gather_info()"
   ]
  },
  {
   "cell_type": "code",
   "execution_count": null,
   "metadata": {},
   "outputs": [],
   "source": []
  },
  {
   "cell_type": "code",
   "execution_count": null,
   "metadata": {},
   "outputs": [],
   "source": [
    "# from wordle import guess\n",
    "\n",
    "while True:\n",
    "    possible_guesses = guess()\n",
    "    if len(possible_guesses) <= 1:\n",
    "        break"
   ]
  },
  {
   "cell_type": "code",
   "execution_count": null,
   "metadata": {},
   "outputs": [],
   "source": [
    "# raise SystemExit(\"Stop right there!\")"
   ]
  },
  {
   "cell_type": "code",
   "execution_count": null,
   "metadata": {},
   "outputs": [],
   "source": []
  },
  {
   "cell_type": "code",
   "execution_count": null,
   "metadata": {},
   "outputs": [],
   "source": []
  },
  {
   "cell_type": "code",
   "execution_count": null,
   "metadata": {},
   "outputs": [],
   "source": []
  },
  {
   "cell_type": "code",
   "execution_count": null,
   "metadata": {},
   "outputs": [],
   "source": []
  },
  {
   "cell_type": "code",
   "execution_count": null,
   "metadata": {},
   "outputs": [],
   "source": []
  }
 ],
 "metadata": {
  "kernelspec": {
   "display_name": "Python 3",
   "language": "python",
   "name": "python3"
  },
  "language_info": {
   "codemirror_mode": {
    "name": "ipython",
    "version": 3
   },
   "file_extension": ".py",
   "mimetype": "text/x-python",
   "name": "python",
   "nbconvert_exporter": "python",
   "pygments_lexer": "ipython3",
   "version": "3.8.5"
  }
 },
 "nbformat": 4,
 "nbformat_minor": 4
}

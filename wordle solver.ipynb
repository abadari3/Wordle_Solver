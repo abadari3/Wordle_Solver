{
 "cells": [
  {
   "cell_type": "code",
   "execution_count": 1,
   "metadata": {},
   "outputs": [],
   "source": [
    "# imports\n",
    "import urllib.request"
   ]
  },
  {
   "cell_type": "code",
   "execution_count": 5,
   "metadata": {},
   "outputs": [],
   "source": [
    "def condition(w, hints):\n",
    "    for fixed in hints[\"fixed\"]:\n",
    "        c, l = fixed\n",
    "        if w[l] != c:\n",
    "            return False\n",
    "    for wrong in hints[\"wrong\"]:\n",
    "        if wrong in w:\n",
    "            return False\n",
    "    for var in hints[\"present\"]:\n",
    "        c, l = var\n",
    "        if w[l] == c:\n",
    "            return False\n",
    "    return True\n",
    "\n",
    "def gather_info():\n",
    "    # best info gathering guess\n",
    "    letters = {}\n",
    "    for word in possible_guesses:\n",
    "        for c in word:\n",
    "            if c in letters:\n",
    "                letters[c] += 1\n",
    "            else:\n",
    "                letters[c] = 1\n",
    "\n",
    "    tried_chars = [x for x in hints[\"wrong\"]]\n",
    "    tried_chars.extend([x[0] for x in hints[\"fixed\"]])\n",
    "    tried_chars.extend([x[0] for x in hints[\"present\"]])\n",
    "    for c in \"abcdefghijklmnopqrstuvwxyz\":\n",
    "        if c in tried_chars:\n",
    "                letters[c] = 0\n",
    "        elif c not in letters:\n",
    "            letters[c] = 0\n",
    "\n",
    "    best_guess = \"\"\n",
    "    max_score = 0\n",
    "    for word in allowed_words:\n",
    "        score = 0\n",
    "        chars = []\n",
    "        for c in word:\n",
    "            if c in chars:\n",
    "                continue\n",
    "            else:\n",
    "                chars.append(c)\n",
    "            score += letters[c]\n",
    "        if score > max_score:\n",
    "            max_score = score\n",
    "            best_guess = word\n",
    "    return best_guess\n",
    "\n",
    "def guess():\n",
    "    word = input(\"word: \")\n",
    "    present = [p.strip() for p in input(\"present: \").split(\",\") if p.strip() != '']\n",
    "    fixed = [p.strip() for p in input(\"correct: \").split(\",\") if p.strip() != '']\n",
    "    print()\n",
    "    for i, c in enumerate(word):\n",
    "        if c not in fixed and c not in present:\n",
    "            hints['wrong'].append(c)\n",
    "        elif c in fixed:\n",
    "            hints['fixed'].append((c, i))\n",
    "        elif c in present:\n",
    "            hints['present'].append((c, i))\n",
    "    possible_guesses = [w for w in possible_words if condition(w, hints)]\n",
    "    print(\"possible solutions are\", possible_guesses)\n",
    "    if len(possible_guesses) > 1:\n",
    "        print(\"the best word to gather information is\", gather_info())\n",
    "        \n",
    "    return possible_guesses"
   ]
  },
  {
   "cell_type": "code",
   "execution_count": 6,
   "metadata": {},
   "outputs": [
    {
     "name": "stdout",
     "output_type": "stream",
     "text": [
      "word: mound\n",
      "present: \n",
      "correct: m, o, u, n\n",
      "\n",
      "possible solutions are ['mount']\n",
      "the best word to gather information is artel\n"
     ]
    }
   ],
   "source": [
    "allowed_words = urllib.request.urlopen(\"https://gist.githubusercontent.com/cfreshman/cdcdf777450c5b5301e439061d29694c/raw/de1df631b45492e0974f7affe266ec36fed736eb/wordle-allowed-guesses.txt\").read().decode(\"utf-8\").split(\"\\n\")\n",
    "possible_words = urllib.request.urlopen(\"https://gist.githubusercontent.com/cfreshman/a03ef2cba789d8cf00c08f767e0fad7b/raw/5d752e5f0702da315298a6bb5a771586d6ff445c/wordle-answers-alphabetical.txt\").read().decode(\"utf-8\").split(\"\\n\")\n",
    "possible_guesses = possible_words\n",
    "hints = {\n",
    "    \"wrong\":[],\n",
    "    \"present\":[],\n",
    "    \"fixed\":[]\n",
    "}\n",
    "while len(possible_guesses) > 1:\n",
    "    possible_guesses = guess()"
   ]
  },
  {
   "cell_type": "code",
   "execution_count": null,
   "metadata": {},
   "outputs": [],
   "source": []
  },
  {
   "cell_type": "code",
   "execution_count": null,
   "metadata": {},
   "outputs": [],
   "source": []
  },
  {
   "cell_type": "code",
   "execution_count": null,
   "metadata": {},
   "outputs": [],
   "source": []
  },
  {
   "cell_type": "code",
   "execution_count": null,
   "metadata": {},
   "outputs": [],
   "source": [
    "# raise SystemExit(\"Stop right there!\")"
   ]
  },
  {
   "cell_type": "code",
   "execution_count": null,
   "metadata": {},
   "outputs": [],
   "source": []
  },
  {
   "cell_type": "code",
   "execution_count": null,
   "metadata": {},
   "outputs": [],
   "source": []
  },
  {
   "cell_type": "code",
   "execution_count": null,
   "metadata": {},
   "outputs": [],
   "source": []
  },
  {
   "cell_type": "code",
   "execution_count": null,
   "metadata": {},
   "outputs": [],
   "source": []
  },
  {
   "cell_type": "code",
   "execution_count": null,
   "metadata": {},
   "outputs": [],
   "source": []
  }
 ],
 "metadata": {
  "kernelspec": {
   "display_name": "Python 3",
   "language": "python",
   "name": "python3"
  },
  "language_info": {
   "codemirror_mode": {
    "name": "ipython",
    "version": 3
   },
   "file_extension": ".py",
   "mimetype": "text/x-python",
   "name": "python",
   "nbconvert_exporter": "python",
   "pygments_lexer": "ipython3",
   "version": "3.8.5"
  }
 },
 "nbformat": 4,
 "nbformat_minor": 4
}
